{
 "cells": [
  {
   "cell_type": "code",
   "execution_count": 2,
   "id": "c26ee3db",
   "metadata": {},
   "outputs": [
    {
     "data": {
      "text/plain": [
       "steamid                      object\n",
       "communityvisibilitystate      int64\n",
       "personaname                  object\n",
       "profileurl                   object\n",
       "avatar                       object\n",
       "avatarmedium                 object\n",
       "avatarfull                   object\n",
       "avatarhash                   object\n",
       "personastate                  int64\n",
       "primaryclanid                object\n",
       "timecreated                 float64\n",
       "personastateflags           float64\n",
       "profilestate                float64\n",
       "realname                     object\n",
       "loccountrycode               object\n",
       "locstatecode                 object\n",
       "dtype: object"
      ]
     },
     "execution_count": 2,
     "metadata": {},
     "output_type": "execute_result"
    }
   ],
   "source": [
    "\n",
    "from datetime import datetime, timedelta\n",
    "import requests\n",
    "import pandas as pd\n",
    "import json\n",
    "\n",
    "\n",
    "start_steam_id = 76561197960435537\n",
    "number_of_ids = 10\n",
    "api_key = \"22AB7B290037490813DF382FD4F94FA4\"\n",
    "\n",
    "# Container for all user summary URLs\n",
    "users = []\n",
    "\n",
    "for i in range(number_of_ids):\n",
    "        # Generate the URL for each Steam ID\n",
    "        steam_id = str(start_steam_id + i)\n",
    "        url = f'https://api.steampowered.com/ISteamUser/GetPlayerSummaries/v0002/?key={api_key}&steamids={steam_id}'\n",
    "\n",
    "        # Fetch data from the URL\n",
    "        response = requests.get(url)\n",
    "        if response.status_code == 200:\n",
    "            # Parse the JSON response and append the player data to the users list\n",
    "            player_data = response.json().get(\"response\", {}).get(\"players\", [])\n",
    "            for player in player_data:\n",
    "                users.append(player)\n",
    "        else:\n",
    "            print(f\"Failed to fetch data for Steam ID: {steam_id}\")\n",
    "# Convert the users list to a DataFrame\n",
    "df = pd.DataFrame(users)\n",
    "\n",
    "# Print the DataFrame to verify the data\n",
    "df.dtypes"
   ]
  },
  {
   "cell_type": "code",
   "execution_count": null,
   "id": "ef7163b5",
   "metadata": {},
   "outputs": [],
   "source": []
  },
  {
   "cell_type": "markdown",
   "id": "fb638aa4",
   "metadata": {},
   "source": [
    "-Connection with tables\n",
    "-Watch and learn and reccomendation model form book and youtube - making test prediction with random data\n",
    "\n",
    "\n",
    "-trying to create proeduction model \n",
    "\n",
    "-finalyzin the project \n",
    "\n",
    "\n",
    "\n",
    "-being the next rpoject but with snowflake and azure env \n"
   ]
  },
  {
   "cell_type": "code",
   "execution_count": 5,
   "id": "4d008086",
   "metadata": {},
   "outputs": [],
   "source": [
    "import pandas as pd\n",
    "import json\n",
    "import pyodbc\n",
    "from pyspark.sql import SparkSession\n",
    "import pyodbc\n",
    "import sqlalchemy\n",
    "from sqlalchemy import create_engine\n",
    "import urllib\n",
    "from sqlalchemy.exc import OperationalError\n"
   ]
  },
  {
   "cell_type": "code",
   "execution_count": 6,
   "id": "3951a27b",
   "metadata": {},
   "outputs": [],
   "source": [
    "# Create a Spark session\n",
    "spark_games = SparkSession.builder \\\n",
    "    .appName(\"RecomendationForPlayers\") \\\n",
    "    .getOrCreate()"
   ]
  },
  {
   "cell_type": "code",
   "execution_count": 7,
   "id": "f9246213",
   "metadata": {},
   "outputs": [],
   "source": [
    "server = r\"DESKTOP-06UQ0CT\\DATA_CENTER\"  # Adjust server name\n",
    "username = \"MichalM\"\n",
    "password = \"!Everest2021@!\"\n",
    "database = \"SteamDB\"\n",
    "driver = \"ODBC+Driver+18+for+SQL+Server\"\n",
    "\n",
    "\n",
    "\n",
    "def serverConnection(server,username,password,database,driver, table):\n",
    "    # Build the connection string for SQLAlchemy\n",
    "    connection_string = f\"mssql://{username}:{urllib.parse.quote_plus(password)}@{server}/{database}?driver={driver}&Encrypt=no&TrustServerCertificate=yes\"\n",
    "\n",
    "    engine = create_engine(connection_string)\n",
    "    con = engine.connect()\n",
    "    \n",
    "    with engine.connect() as connection:\n",
    "        # Execute the SQL query and return the result as a DataFrame\n",
    "        query = f\"SELECT * FROM [SteamDB].[dbo].[{table}];\"\n",
    "        result_df = pd.read_sql(query, connection)\n",
    "    \n",
    "    return result_df\n",
    "\n",
    "\n",
    "\n",
    "SteamGamesDescriptionDF = serverConnection(server,username,password,database,driver,'SteamGamesDescriptionFix')\n",
    "\n",
    "SteamUsersDF = serverConnection(server,username,password,database,driver,'SteamUsers')\n",
    "\n",
    "SteamUsersGamesDF = serverConnection(server,username,password,database,driver,'SteamUsersGames') \n",
    "\n",
    "SteamGamesDF = serverConnection(server,username,password,database,driver,'SteamGames')\n",
    "    "
   ]
  },
  {
   "cell_type": "code",
   "execution_count": 4,
   "id": "91590683",
   "metadata": {},
   "outputs": [
    {
     "name": "stdout",
     "output_type": "stream",
     "text": [
      "root\n",
      " |-- name: string (nullable = true)\n",
      " |-- steam_appid: long (nullable = true)\n",
      " |-- required_age: string (nullable = true)\n",
      " |-- is_free: boolean (nullable = true)\n",
      " |-- short_description: string (nullable = true)\n",
      " |-- supported_languages: string (nullable = true)\n",
      " |-- header_image: string (nullable = true)\n",
      " |-- capsule_image: string (nullable = true)\n",
      " |-- pc_requirements: string (nullable = true)\n",
      " |-- developers: string (nullable = true)\n",
      " |-- publishers: string (nullable = true)\n",
      " |-- metacritic: string (nullable = true)\n",
      " |-- currency: string (nullable = true)\n",
      " |-- initial_price: double (nullable = true)\n",
      " |-- final_price: double (nullable = true)\n",
      " |-- discount_percent: double (nullable = true)\n",
      " |-- initial_formatted: string (nullable = true)\n",
      " |-- final_formatted: string (nullable = true)\n",
      " |-- windows: string (nullable = true)\n",
      " |-- mac: string (nullable = true)\n",
      " |-- linux: string (nullable = true)\n",
      "\n"
     ]
    }
   ],
   "source": [
    "SteamGamesDescriptionsparkDF = spark_games.createDataFrame(SteamGamesDescriptionDF)\n",
    "\n",
    "SteamGamesDescriptionsparkDF.printSchema()\n",
    "\n"
   ]
  },
  {
   "cell_type": "code",
   "execution_count": 33,
   "id": "ba5212ba",
   "metadata": {},
   "outputs": [
    {
     "name": "stdout",
     "output_type": "stream",
     "text": [
      "+--------------------+-----------+------------+-------+--------------------+--------------------+--------------------+--------------------+--------------------+--------------------+--------------------+----------+--------+-------------+-----------+----------------+-----------------+---------------+-------+-----+-----+\n",
      "|                name|steam_appid|required_age|is_free|   short_description| supported_languages|        header_image|       capsule_image|     pc_requirements|          developers|          publishers|metacritic|currency|initial_price|final_price|discount_percent|initial_formatted|final_formatted|windows|  mac|linux|\n",
      "+--------------------+-----------+------------+-------+--------------------+--------------------+--------------------+--------------------+--------------------+--------------------+--------------------+----------+--------+-------------+-----------+----------------+-----------------+---------------+-------+-----+-----+\n",
      "|The Monstrous Hor...|    2099790|           0|  false|Four girls find t...|Japanese, English...|https://shared.ak...|https://shared.ak...|Minimum Requireme...|      \"kaniheadcrab\"|      \"kaniheadcrab\"|        {}|     PLN|       6799.0|     6799.0|             0.0|                 |          67,99|   true|false|false|\n",
      "|Rogue : Genesia Demo|    2099800|           0|   true|Walk upon a new w...|     English, French|https://shared.ak...|https://shared.ak...|Minimum Requireme...|       \"Ouadi Huard\"|       \"Ouadi Huard\"|        {}|    null|          NaN|        NaN|             NaN|             null|           null|   true|false|false|\n",
      "|              Splash|    2099830|           0|   true|Splash is the ult...|English languages...|https://shared.ak...|https://shared.ak...|Minimum Requireme...|            \"Splash\"|            \"Splash\"|        {}|    null|          NaN|        NaN|             NaN|             null|           null|   true|false|false|\n",
      "|  Drain Mansion Demo|    2099840|           0|   true|You wake up in an...|English, Spanish ...|https://shared.ak...|https://shared.ak...|Minimum Requireme...|            \"Kredyn\"|            \"Kredyn\"|        {}|    null|          NaN|        NaN|             NaN|             null|           null|   true| true| true|\n",
      "|Necrosmith Origin...|    2099850|           0|  false|The official soun...|                 N/A|https://shared.ak...|https://shared.ak...|Minimum Requireme...|            \"Alawar\"|            \"Alawar\"|        {}|     PLN|        449.0|      246.0|            45.0|           4,49zł|           2,46|   true|false|false|\n",
      "|Ever Seen a Cat? ...|    2099870|           0|  false|The nine pages of...|             English|https://shared.ak...|https://shared.ak...|Minimum Requireme...|          \"EverCats\"|          \"EverCats\"|        {}|     PLN|        449.0|      449.0|             0.0|                 |           4,49|   true|false|false|\n",
      "|           Approval |    2099880|           0|  false|A new sensation! ...|English, Japanese...|https://shared.ak...|https://shared.ak...|Minimum Requireme...|           \"AECRNIA\"|           \"AECRNIA\"|        {}|     PLN|      10799.0|    10799.0|             0.0|                 |         107,99|   true|false|false|\n",
      "|     Acidic Pro Demo|    2486500|           0|   true|                null|             English|https://shared.ak...|https://shared.ak...|Minimum Requireme...|      \"AcidProTools\"|      \"AcidProTools\"|        {}|    null|          NaN|        NaN|             NaN|             null|           null|   true|false|false|\n",
      "|Thriller Garden Demo|    2482300|           0|   true|                null|                 N/A|https://shared.ak...|https://shared.ak...|Minimum Requireme...|         \"BlackDrop\"|         \"BlackDrop\"|        {}|    null|          NaN|        NaN|             NaN|             null|           null|   true|false|false|\n",
      "|Mystic Academy: E...|    2469020|           0|  false|Today is the day ...|                 N/A|https://shared.ak...|https://shared.ak...|Minimum Requireme...|          \"mc2games\"|          \"mc2games\"|        {}|     PLN|       1349.0|     1349.0|             0.0|                 |          13,49|   true|false|false|\n",
      "|                ????|    2099890|           0|   true|????????,«????»??...|Simplified Chines...|https://shared.ak...|https://shared.ak...|Minimum Requireme...|\"\\u6c5f\\u6e56\\u6e...|\"\\u6c5f\\u6e56\\u6e...|        {}|    null|          NaN|        NaN|             NaN|             null|           null|   true|false|false|\n",
      "|                 4X4|    2099900|           0|  false|Survive in a limi...|English, Japanese...|https://shared.ak...|https://shared.ak...|Minimum Requireme...|          \"Marimori\"|          \"Marimori\"|        {}|     PLN|       1799.0|     1799.0|             0.0|                 |          17,99|   true|false|false|\n",
      "|Eye of the Portal...|    2099070|           0|   true|                null|                 N/A|https://shared.ak...|https://shared.ak...|                null|           \"PhilDev\"|           \"PhilDev\"|        {}|    null|          NaN|        NaN|             NaN|             null|           null|   true|false|false|\n",
      "|        Aka Playtest|    2090610|           0|  false|                null|                 N/A|https://shared.ak...|https://shared.ak...|                null|                    |                    |        {}|    null|          NaN|        NaN|             NaN|             null|           null|   true|false|false|\n",
      "|Trash is Fun (Ori...|    2090620|           0|  false|Embark on an unfo...|                 N/A|https://shared.ak...|https://shared.ak...|Minimum Requireme...|     \"VP Production\"|     \"VP Production\"|        {}|     PLN|       1099.0|     1099.0|             0.0|                 |          10,99|   true| true| true|\n",
      "|    Infinity Pinball|    2099910|           0|  false|Classic retro pin...|English, French, ...|https://shared.ak...|https://shared.ak...|Minimum Requireme...|      \"Digital Will\"|      \"Digital Will\"|        {}|     PLN|       4599.0|     4599.0|             0.0|                 |          45,99|   true| true| true|\n",
      "|Monster Racing Le...|    2468482|           0|  false|Customise your mo...|English languages...|https://shared.ak...|https://shared.ak...|Minimum Requireme...|        \"Flightless\"|        \"Flightless\"|        {}|     PLN|       2299.0|     2299.0|             0.0|                 |          22,99|   true| true|false|\n",
      "|       Robot Rejects|    2099920|           0|  false|Saw-slicing, meta...|             English|https://shared.ak...|https://shared.ak...|Minimum Requireme...|      \"Digital Will\"|      \"Digital Will\"|        {}|    null|          NaN|        NaN|             NaN|             null|           null|   true| true| true|\n",
      "|Exoprimal - Famit...|    2467361|           0|   true|Contains the foll...|English, Japanese...|https://shared.ak...|https://shared.ak...|                null|  \"CAPCOM Co., Ltd.\"|  \"CAPCOM Co., Ltd.\"|        {}|    null|          NaN|        NaN|             NaN|             null|           null|   true|false|false|\n",
      "|     THE HUNTED Demo|    2466960|           0|   true|                null|English languages...|https://shared.ak...|https://shared.ak...|Minimum Requireme...|\"#LOL Entertainment\"|\"#LOL Entertainment\"|        {}|    null|          NaN|        NaN|             NaN|             null|           null|   true|false|false|\n",
      "+--------------------+-----------+------------+-------+--------------------+--------------------+--------------------+--------------------+--------------------+--------------------+--------------------+----------+--------+-------------+-----------+----------------+-----------------+---------------+-------+-----+-----+\n",
      "only showing top 20 rows\n",
      "\n"
     ]
    }
   ],
   "source": [
    "SteamGamesDescriptionsparkDF.show()"
   ]
  },
  {
   "cell_type": "code",
   "execution_count": null,
   "id": "07080b15",
   "metadata": {},
   "outputs": [],
   "source": []
  }
 ],
 "metadata": {
  "kernelspec": {
   "display_name": "Python 3 (ipykernel)",
   "language": "python",
   "name": "python3"
  },
  "language_info": {
   "codemirror_mode": {
    "name": "ipython",
    "version": 3
   },
   "file_extension": ".py",
   "mimetype": "text/x-python",
   "name": "python",
   "nbconvert_exporter": "python",
   "pygments_lexer": "ipython3",
   "version": "3.11.4"
  }
 },
 "nbformat": 4,
 "nbformat_minor": 5
}
